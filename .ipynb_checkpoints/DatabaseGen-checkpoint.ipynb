{
 "cells": [
  {
   "cell_type": "code",
   "execution_count": 1,
   "metadata": {},
   "outputs": [],
   "source": [
    "import pandas as pd \n",
    "import numpy as np \n",
    "data = pd.read_csv(\"Homeless Shelter Database.csv\")"
   ]
  },
  {
   "cell_type": "code",
   "execution_count": 2,
   "metadata": {},
   "outputs": [
    {
     "name": "stdout",
     "output_type": "stream",
     "text": [
      "Eden Village \n",
      "Our House \n",
      "Hope Atlanta \n"
     ]
    }
   ],
   "source": [
    "restriction_dictionary = {\n",
    "    \"Women\": ['women'], \n",
    "    \"Children\": ['children', 18],  \n",
    "    \"Men\": ['men'],\n",
    "    \"Families\": [\"fam\"], \n",
    "    \"newborns\": [\"children\", 2], \n",
    "    \"Anyone\": [\"anyone\"], \n",
    "    \"Children under 5\": [\"children\", 5], \n",
    "    \"Childrens\": [\"children\", 18], \n",
    "    \"Young adults\": [\"children\", 18], \n",
    "    \"Veterans\": [\"vets\"] \n",
    "}\n",
    "\n",
    "allRestrictions = set()\n",
    "for i, k in restriction_dictionary.items(): \n",
    "    allRestrictions.add(k[0])\n",
    "defaultRestrictions = dict(list(zip(allRestrictions, [False] * len(allRestrictions))))\n",
    "\n",
    "def parse(row): \n",
    "    document = {} \n",
    "    key, data = row \n",
    "    errd = False\n",
    "    #Set easy stuff first \n",
    "    #name \n",
    "    document['name'] = data['Shelter Name']\n",
    "    #phone number \n",
    "    document['number'] = data['Phone Number']\n",
    "    #address \n",
    "    document['address'] = data['Address']\n",
    "    #notes \n",
    "    document['note'] = data['Special Notes']\n",
    "    #position\n",
    "    document['longitude'] = float(data['Longitude '])\n",
    "    document['latitude'] = float(data['Latitude '])\n",
    "    document['key'] = int(key) \n",
    "    document['capacity'] = {} \n",
    "    document['available'] = {} \n",
    "    if isinstance(data['Capacity'], str) \\\n",
    "        and data['Capacity'].isnumeric() \\\n",
    "        and not np.isnan(float(data['Capacity'])): \n",
    "        document['capacity']['beds'] = int(data['Capacity'])\n",
    "        document['available']['beds'] = int(data['Capacity'])\n",
    "    elif not isinstance(data['Capacity'], str): \n",
    "        #is nan \n",
    "        document['capacity']['beds'] = 0 \n",
    "        document['capacity']['rooms'] = 0 \n",
    "        document['available']['beds'] = 0 \n",
    "        document['available']['rooms'] = 0 \n",
    "    else: \n",
    "        errd = True\n",
    "        print(document['name'])\n",
    "        \n",
    "    #Now parse restrictions \n",
    "    document['restrictions'] = defaultRestrictions.copy() \n",
    "    \n",
    "    restrictions = map(lambda x: x.strip(), data['Restrictions'].replace(\"w/\", \"/\").split(\"/\"))\n",
    "    for restriction in restrictions: \n",
    "        r = restriction_dictionary[restriction] \n",
    "        document['restrictions'][r[0]] = True \n",
    "        if r[0] == \"children\": \n",
    "            document['restrictions']['child_age'] = r[1] \n",
    "    document['employees'] = [] \n",
    "    document['admin'] = [] \n",
    "    return key, document, errd\n",
    "gdoc = []\n",
    "errd = [] \n",
    "i = 0\n",
    "for row in data.iterrows(): \n",
    "    key, doc, err = parse(row)\n",
    "    if err: \n",
    "        errd.append(i)\n",
    "    gdoc.append(doc) \n",
    "    i += 1"
   ]
  },
  {
   "cell_type": "code",
   "execution_count": 3,
   "metadata": {},
   "outputs": [],
   "source": [
    "EdenCap = {'beds': 80, 'rooms': 32}\n",
    "OurHouseCap = {'beds': 0, 'rooms': 76}\n",
    "HopeCap = {'rooms': 22, 'beds': 0} \n",
    "gdoc[5]['available'] = EdenCap \n",
    "gdoc[5]['capacity'] = EdenCap \n",
    "\n",
    "gdoc[6]['available'] = OurHouseCap \n",
    "gdoc[6]['capacity'] = OurHouseCap \n",
    "\n",
    "gdoc[9]['available'] = HopeCap \n",
    "gdoc[9]['capacity'] = HopeCap "
   ]
  },
  {
   "cell_type": "code",
   "execution_count": 4,
   "metadata": {},
   "outputs": [],
   "source": [
    "#patch together the current DB and the new DB \n",
    "import json \n",
    "with open(\"weboolean-export.json\", 'r') as f: \n",
    "    currentDB = json.load(f) \n",
    "\n",
    "currentDB['shelters'] = gdoc \n",
    "with open(\"out.json\", 'w') as f: \n",
    "    json.dump(currentDB, f)"
   ]
  }
 ],
 "metadata": {
  "kernelspec": {
   "display_name": "Python [conda env:data]",
   "language": "python",
   "name": "conda-env-data-py"
  },
  "language_info": {
   "codemirror_mode": {
    "name": "ipython",
    "version": 3
   },
   "file_extension": ".py",
   "mimetype": "text/x-python",
   "name": "python",
   "nbconvert_exporter": "python",
   "pygments_lexer": "ipython3",
   "version": "3.6.4"
  }
 },
 "nbformat": 4,
 "nbformat_minor": 2
}
